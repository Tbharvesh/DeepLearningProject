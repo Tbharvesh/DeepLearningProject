{
  "nbformat": 4,
  "nbformat_minor": 0,
  "metadata": {
    "colab": {
      "provenance": [],
      "authorship_tag": "ABX9TyMCvoLEs5V/LODvxQzuapav",
      "include_colab_link": true
    },
    "kernelspec": {
      "name": "python3",
      "display_name": "Python 3"
    },
    "language_info": {
      "name": "python"
    }
  },
  "cells": [
    {
      "cell_type": "markdown",
      "metadata": {
        "id": "view-in-github",
        "colab_type": "text"
      },
      "source": [
        "<a href=\"https://colab.research.google.com/github/Tbharvesh/DeepLearningProject/blob/main/DL_Project.ipynb\" target=\"_parent\"><img src=\"https://colab.research.google.com/assets/colab-badge.svg\" alt=\"Open In Colab\"/></a>"
      ]
    },
    {
      "cell_type": "code",
      "execution_count": null,
      "metadata": {
        "id": "bIN9pDm_drxt"
      },
      "outputs": [],
      "source": [
        "import pandas as pd\n",
        "import matplotlib.pyplot as plt\n"
      ]
    },
    {
      "cell_type": "code",
      "source": [
        "# !unzip -q dataset.zip\n",
        "from google.colab import drive\n",
        "drive.mount('/content/drive')\n"
      ],
      "metadata": {
        "colab": {
          "base_uri": "https://localhost:8080/"
        },
        "id": "iJwXW-L6d5CB",
        "outputId": "f107b9c4-564a-4597-a2a7-f90c715a82da"
      },
      "execution_count": null,
      "outputs": [
        {
          "output_type": "stream",
          "name": "stdout",
          "text": [
            "Drive already mounted at /content/drive; to attempt to forcibly remount, call drive.mount(\"/content/drive\", force_remount=True).\n"
          ]
        }
      ]
    },
    {
      "cell_type": "code",
      "source": [
        "import tensorflow as tf\n",
        "from tensorflow.keras import layers\n",
        "from tensorflow.keras.preprocessing import image_dataset_from_directory"
      ],
      "metadata": {
        "id": "8aR3BlHjQc0G"
      },
      "execution_count": null,
      "outputs": []
    },
    {
      "cell_type": "code",
      "source": [
        "# %cd https://drive.google.com/drive/folders/11jXIcJ6MF3R_FbeMQigZ5PeQSEpYmurO?usp=drive_link\n"
      ],
      "metadata": {
        "id": "wqL_ZJ1iiDpn"
      },
      "execution_count": null,
      "outputs": []
    },
    {
      "cell_type": "code",
      "source": [
        "#loading image datasets\n",
        "train_dataset = image_dataset_from_directory(\n",
        "    '/content/drive/MyDrive/Covid19-dataset/train',\n",
        "    image_size=(256, 256),\n",
        "    batch_size=32,\n",
        "    )\n",
        "test_dataset=image_dataset_from_directory(\n",
        "    '/content/drive/My Drive/Covid19-dataset/test',\n",
        "    image_size=(256, 256),\n",
        "    batch_size=32)"
      ],
      "metadata": {
        "id": "7NtoFNE0i8mR",
        "colab": {
          "base_uri": "https://localhost:8080/"
        },
        "outputId": "9aec0e44-f4cf-4d82-ccd1-a971438b6c76"
      },
      "execution_count": null,
      "outputs": [
        {
          "output_type": "stream",
          "name": "stdout",
          "text": [
            "Found 251 files belonging to 3 classes.\n",
            "Found 66 files belonging to 3 classes.\n"
          ]
        }
      ]
    },
    {
      "cell_type": "code",
      "source": [
        "data_augmentation = tf.keras.Sequential([\n",
        "    layers.experimental.preprocessing.Rescaling(1./255),\n",
        "    layers.experimental.preprocessing.RandomFlip(\"horizontal_and_vertical\"),\n",
        "    layers.experimental.preprocessing.RandomRotation(0.2),\n",
        "    layers.experimental.preprocessing.RandomZoom(0.2),\n",
        "])\n",
        "\n",
        "# Applying data augmentation to dataset\n",
        "augmented_train_dataset = train_dataset.map(lambda x, y: (data_augmentation(x, training=True), y))\n"
      ],
      "metadata": {
        "id": "LejauDJUQCww"
      },
      "execution_count": null,
      "outputs": []
    },
    {
      "cell_type": "code",
      "source": [
        "from tensorflow.keras.layers.experimental.preprocessing import Rescaling\n",
        "preprocess_input = Rescaling(1./255)\n",
        "train_dataset = train_dataset.map(lambda x, y: (preprocess_input(x), y))\n",
        "train_dataset\n"
      ],
      "metadata": {
        "id": "FlqNDGA4k5Hj"
      },
      "execution_count": null,
      "outputs": []
    },
    {
      "cell_type": "code",
      "source": [],
      "metadata": {
        "id": "r4A0Rfq7MWYK"
      },
      "execution_count": null,
      "outputs": []
    }
  ]
}